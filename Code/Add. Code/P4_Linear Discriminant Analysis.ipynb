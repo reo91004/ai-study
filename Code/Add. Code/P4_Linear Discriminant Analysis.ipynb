{
 "cells": [
  {
   "cell_type": "markdown",
   "id": "b5ef70e1-24e7-4580-b8b5-62786e13ccd1",
   "metadata": {},
   "source": [
    "# Linear Discriminant Analysis (LDA)\n",
    "- 이 노트북에서는 선형판별분석(LDA)을 사용하여 고객이 승용 잔디깎기를 소유할 가능성에 따라 고객을 분류하는 분류 모델을 구축합니다.\n",
    "\n",
    "\n",
    "- 분류 모델의 훈련, 평가 및 예측을 위해 scikit-learn 패키지를 사용합니다. 선형판별분석(LDA) 함수에 대한 문서는 다음 링크를 참조하세요:\n",
    "    - https://scikit-learn.org/stable/modules/generated/sklearn.discriminant_analysis.LinearDiscriminantAnalysis.html\n",
    "\n",
    "## 1. LDA on \"Riding Mowers\" dataset\n",
    "\n",
    "### (1) Prepare an example data\n",
    "- 데이터셋은 고객의 소득(Income)과 부지 크기(Lot Size)와 같은 고객 정보를 포함하여 고객이 승용 잔디깎기를 소유하는지(Ownership) 예측합니다."
   ]
  },
  {
   "cell_type": "code",
   "execution_count": 2,
   "id": "4efe2a25-8578-4780-b7b7-8c8740cbf447",
   "metadata": {},
   "outputs": [],
   "source": [
    "import numpy as np\n",
    "import pandas as pd\n",
    "from sklearn.discriminant_analysis import LinearDiscriminantAnalysis\n",
    "import matplotlib.pylab as plt\n"
   ]
  },
  {
   "cell_type": "code",
   "execution_count": 3,
   "id": "bd848a7f-c846-42fd-90b7-3f1fc5bd73ee",
   "metadata": {},
   "outputs": [],
   "source": [
    "url = \"https://raw.githubusercontent.com/reisanar/datasets/master/RidingMowers.csv\"\n",
    "mower_df = pd.read_csv(url)"
   ]
  },
  {
   "cell_type": "code",
   "execution_count": 4,
   "id": "860a986f-b840-4d7e-8018-e362243b6b13",
   "metadata": {},
   "outputs": [
    {
     "data": {
      "text/html": [
       "<div>\n",
       "<style scoped>\n",
       "    .dataframe tbody tr th:only-of-type {\n",
       "        vertical-align: middle;\n",
       "    }\n",
       "\n",
       "    .dataframe tbody tr th {\n",
       "        vertical-align: top;\n",
       "    }\n",
       "\n",
       "    .dataframe thead th {\n",
       "        text-align: right;\n",
       "    }\n",
       "</style>\n",
       "<table border=\"1\" class=\"dataframe\">\n",
       "  <thead>\n",
       "    <tr style=\"text-align: right;\">\n",
       "      <th></th>\n",
       "      <th>Income</th>\n",
       "      <th>Lot_Size</th>\n",
       "      <th>Ownership</th>\n",
       "    </tr>\n",
       "  </thead>\n",
       "  <tbody>\n",
       "    <tr>\n",
       "      <th>0</th>\n",
       "      <td>60.0</td>\n",
       "      <td>18.4</td>\n",
       "      <td>Owner</td>\n",
       "    </tr>\n",
       "    <tr>\n",
       "      <th>1</th>\n",
       "      <td>85.5</td>\n",
       "      <td>16.8</td>\n",
       "      <td>Owner</td>\n",
       "    </tr>\n",
       "    <tr>\n",
       "      <th>2</th>\n",
       "      <td>64.8</td>\n",
       "      <td>21.6</td>\n",
       "      <td>Owner</td>\n",
       "    </tr>\n",
       "    <tr>\n",
       "      <th>3</th>\n",
       "      <td>61.5</td>\n",
       "      <td>20.8</td>\n",
       "      <td>Owner</td>\n",
       "    </tr>\n",
       "    <tr>\n",
       "      <th>4</th>\n",
       "      <td>87.0</td>\n",
       "      <td>23.6</td>\n",
       "      <td>Owner</td>\n",
       "    </tr>\n",
       "    <tr>\n",
       "      <th>5</th>\n",
       "      <td>110.1</td>\n",
       "      <td>19.2</td>\n",
       "      <td>Owner</td>\n",
       "    </tr>\n",
       "    <tr>\n",
       "      <th>6</th>\n",
       "      <td>108.0</td>\n",
       "      <td>17.6</td>\n",
       "      <td>Owner</td>\n",
       "    </tr>\n",
       "    <tr>\n",
       "      <th>7</th>\n",
       "      <td>82.8</td>\n",
       "      <td>22.4</td>\n",
       "      <td>Owner</td>\n",
       "    </tr>\n",
       "    <tr>\n",
       "      <th>8</th>\n",
       "      <td>69.0</td>\n",
       "      <td>20.0</td>\n",
       "      <td>Owner</td>\n",
       "    </tr>\n",
       "    <tr>\n",
       "      <th>9</th>\n",
       "      <td>93.0</td>\n",
       "      <td>20.8</td>\n",
       "      <td>Owner</td>\n",
       "    </tr>\n",
       "    <tr>\n",
       "      <th>10</th>\n",
       "      <td>51.0</td>\n",
       "      <td>22.0</td>\n",
       "      <td>Owner</td>\n",
       "    </tr>\n",
       "    <tr>\n",
       "      <th>11</th>\n",
       "      <td>81.0</td>\n",
       "      <td>20.0</td>\n",
       "      <td>Owner</td>\n",
       "    </tr>\n",
       "    <tr>\n",
       "      <th>12</th>\n",
       "      <td>75.0</td>\n",
       "      <td>19.6</td>\n",
       "      <td>Nonowner</td>\n",
       "    </tr>\n",
       "    <tr>\n",
       "      <th>13</th>\n",
       "      <td>52.8</td>\n",
       "      <td>20.8</td>\n",
       "      <td>Nonowner</td>\n",
       "    </tr>\n",
       "    <tr>\n",
       "      <th>14</th>\n",
       "      <td>64.8</td>\n",
       "      <td>17.2</td>\n",
       "      <td>Nonowner</td>\n",
       "    </tr>\n",
       "    <tr>\n",
       "      <th>15</th>\n",
       "      <td>43.2</td>\n",
       "      <td>20.4</td>\n",
       "      <td>Nonowner</td>\n",
       "    </tr>\n",
       "    <tr>\n",
       "      <th>16</th>\n",
       "      <td>84.0</td>\n",
       "      <td>17.6</td>\n",
       "      <td>Nonowner</td>\n",
       "    </tr>\n",
       "    <tr>\n",
       "      <th>17</th>\n",
       "      <td>49.2</td>\n",
       "      <td>17.6</td>\n",
       "      <td>Nonowner</td>\n",
       "    </tr>\n",
       "    <tr>\n",
       "      <th>18</th>\n",
       "      <td>59.4</td>\n",
       "      <td>16.0</td>\n",
       "      <td>Nonowner</td>\n",
       "    </tr>\n",
       "    <tr>\n",
       "      <th>19</th>\n",
       "      <td>66.0</td>\n",
       "      <td>18.4</td>\n",
       "      <td>Nonowner</td>\n",
       "    </tr>\n",
       "    <tr>\n",
       "      <th>20</th>\n",
       "      <td>47.4</td>\n",
       "      <td>16.4</td>\n",
       "      <td>Nonowner</td>\n",
       "    </tr>\n",
       "    <tr>\n",
       "      <th>21</th>\n",
       "      <td>33.0</td>\n",
       "      <td>18.8</td>\n",
       "      <td>Nonowner</td>\n",
       "    </tr>\n",
       "    <tr>\n",
       "      <th>22</th>\n",
       "      <td>51.0</td>\n",
       "      <td>14.0</td>\n",
       "      <td>Nonowner</td>\n",
       "    </tr>\n",
       "    <tr>\n",
       "      <th>23</th>\n",
       "      <td>63.0</td>\n",
       "      <td>14.8</td>\n",
       "      <td>Nonowner</td>\n",
       "    </tr>\n",
       "  </tbody>\n",
       "</table>\n",
       "</div>"
      ],
      "text/plain": [
       "    Income  Lot_Size Ownership\n",
       "0     60.0      18.4     Owner\n",
       "1     85.5      16.8     Owner\n",
       "2     64.8      21.6     Owner\n",
       "3     61.5      20.8     Owner\n",
       "4     87.0      23.6     Owner\n",
       "5    110.1      19.2     Owner\n",
       "6    108.0      17.6     Owner\n",
       "7     82.8      22.4     Owner\n",
       "8     69.0      20.0     Owner\n",
       "9     93.0      20.8     Owner\n",
       "10    51.0      22.0     Owner\n",
       "11    81.0      20.0     Owner\n",
       "12    75.0      19.6  Nonowner\n",
       "13    52.8      20.8  Nonowner\n",
       "14    64.8      17.2  Nonowner\n",
       "15    43.2      20.4  Nonowner\n",
       "16    84.0      17.6  Nonowner\n",
       "17    49.2      17.6  Nonowner\n",
       "18    59.4      16.0  Nonowner\n",
       "19    66.0      18.4  Nonowner\n",
       "20    47.4      16.4  Nonowner\n",
       "21    33.0      18.8  Nonowner\n",
       "22    51.0      14.0  Nonowner\n",
       "23    63.0      14.8  Nonowner"
      ]
     },
     "execution_count": 4,
     "metadata": {},
     "output_type": "execute_result"
    }
   ],
   "source": [
    "mower_df"
   ]
  },
  {
   "cell_type": "markdown",
   "id": "01a081e7-fbb4-4f94-b35b-c0bec4b41506",
   "metadata": {},
   "source": [
    "### (2) Define and Train a Linear Discriminant Analysis model\n",
    "- 이 단계에서는 소득(Income)과 부지 크기(Lot Size)를 입력 특성으로, 소유권(Ownership)을 목표 변수로 사용하여 LDA 모델을 훈련시킵니다."
   ]
  },
  {
   "cell_type": "code",
   "execution_count": 5,
   "id": "15135633-0222-4ab9-8259-a24c6d3463ef",
   "metadata": {},
   "outputs": [
    {
     "name": "stdout",
     "output_type": "stream",
     "text": [
      "Coefficients [[0.1002303  0.78518471]]\n",
      "Intercept [-21.73876167]\n",
      "Decision function\n",
      " = 0.10*Income + 0.79*Lot_Size + -21.74\n",
      "\n",
      "Example Income=$60K Lot_Size=18.4Kft2\n",
      "  0.10*60 + 0.79*18.4 + -21.74 = -1.28\n",
      "  negative => nonowner\n"
     ]
    },
    {
     "name": "stderr",
     "output_type": "stream",
     "text": [
      "/Users/woojin/anaconda3/envs/DM/lib/python3.8/site-packages/sklearn/base.py:465: UserWarning: X does not have valid feature names, but LinearDiscriminantAnalysis was fitted with feature names\n",
      "  warnings.warn(\n"
     ]
    }
   ],
   "source": [
    "clf = LinearDiscriminantAnalysis()\n",
    "clf.fit(mower_df.drop(columns=['Ownership']), mower_df['Ownership'])\n",
    "\n",
    "print('Coefficients', clf.coef_)\n",
    "print('Intercept', clf.intercept_)\n",
    "\n",
    "c_income = clf.coef_[0, 0]\n",
    "c_lotSize = clf.coef_[0, 1]\n",
    "intercept = clf.intercept_[0]\n",
    "\n",
    "print('Decision function')\n",
    "print(' = {:.2f}*Income + {:.2f}*Lot_Size + {:.2f}'.format(c_income, c_lotSize, intercept))\n",
    "\n",
    "print('\\nExample Income=$60K Lot_Size=18.4Kft2')\n",
    "print('  {:.2f}*60 + {:.2f}*18.4 + {:.2f} = {:.2f}'.format(c_income, c_lotSize, intercept,\n",
    "                                                          clf.decision_function([[60, 18.4]])[0]))\n",
    "print('  negative => nonowner')"
   ]
  },
  {
   "cell_type": "markdown",
   "id": "fc35c2b6-2af6-429e-be51-6a80ab7e766a",
   "metadata": {},
   "source": [
    "### (3) Visualize the decision boundary\n",
    "- 이 단계에서는 소유자와 비소유자를 산점도에 시각화하고, LDA 결정 경계를 추가합니다."
   ]
  },
  {
   "cell_type": "code",
   "execution_count": 6,
   "id": "c3caad5e-2ee8-45b8-be9c-dd682cdc5e47",
   "metadata": {},
   "outputs": [
    {
     "data": {
      "image/png": "[encoded data removed]",
      "text/plain": [
       "<Figure size 640x480 with 1 Axes>"
      ]
     },
     "metadata": {},
     "output_type": "display_data"
    }
   ],
   "source": [
    "ax = mower_df[mower_df.Ownership=='Owner'].plot.scatter(x='Income', y='Lot_Size', c='blue', label='owner')\n",
    "mower_df[mower_df.Ownership!='Owner'].plot.scatter(x='Income', y='Lot_Size', c='red', label='nonowner', ax=ax)\n",
    "\n",
    "ax.plot(clf.means_[:,0], clf.means_[:,1], 'x', color='black', label='Class means', markersize=5)\n",
    "x_lda = np.array(ax.get_xlim())\n",
    "y_lda = (- intercept - c_income * x_lda) / c_lotSize\n",
    "ax.plot(x_lda, y_lda, '--', color='C1', label='DA line')\n",
    "ax.set_xlabel('Income ($000s)')\n",
    "ax.set_ylabel('Lot Size (000s sqft)')\n",
    "ax.set_xlim(20, 120)\n",
    "ax.set_ylim(13, 25)\n",
    "\n",
    "box = ax.get_position()\n",
    "ax.set_position([box.x0, box.y0, box.width * 0.8, box.height])\n",
    "plt.legend(loc='center left', bbox_to_anchor=(1, 0.5))\n",
    "\n",
    "plt.show()"
   ]
  },
  {
   "cell_type": "markdown",
   "id": "4f7baa69-2e3d-42fa-b2a6-b1bed52a6f8c",
   "metadata": {},
   "source": [
    "### (5) Test and Evaluate the model"
   ]
  },
  {
   "cell_type": "code",
   "execution_count": null,
   "id": "20e75f93-42b4-4097-9500-b6d8d84288c2",
   "metadata": {},
   "outputs": [],
   "source": [
    "clf = LinearDiscriminantAnalysis()\n",
    "clf.fit(mower_df.drop(columns=['Ownership']), mower_df['Ownership'])\n",
    "\n",
    "result_df = mower_df.copy()\n",
    "result_df.index = result_df.index + 1\n",
    "result_df['Dec. Function'] = clf.decision_function(mower_df.drop(columns=['Ownership']))\n",
    "result_df['Prediction'] = clf.predict(mower_df.drop(columns=['Ownership']))\n",
    "result_df['p(Owner)'] = clf.predict_proba(mower_df.drop(columns=['Ownership']))[:, 1]\n",
    "\n",
    "print(result_df)"
   ]
  },
  {
   "cell_type": "markdown",
   "id": "dbc1e25c-bd36-4824-8c89-6e4c07735ddd",
   "metadata": {},
   "source": [
    "- 여기서 데이터셋의 각 고객에 대한 결정 함수와 예측을 계산하고, 소유자일 확률도 계산합니다.\n",
    "\n",
    "- 요약:\n",
    "    - Riding Mowers 데이터셋에서 선형판별분석(LDA) 모델을 구축하고 훈련시켰습니다.\n",
    "    - 결정 함수를 계산하고, 결정 경계를 시각화하며, 데이터셋에서 모델의 성능을 평가했습니다."
   ]
  },
  {
   "cell_type": "code",
   "execution_count": null,
   "id": "64e2ba7a-afca-480e-8b2d-503edd5d360a",
   "metadata": {},
   "outputs": [],
   "source": []
  }
 ],
 "metadata": {
  "kernelspec": {
   "display_name": "Python 3 (ipykernel)",
   "language": "python",
   "name": "python3"
  },
  "language_info": {
   "codemirror_mode": {
    "name": "ipython",
    "version": 3
   },
   "file_extension": ".py",
   "mimetype": "text/x-python",
   "name": "python",
   "nbconvert_exporter": "python",
   "pygments_lexer": "ipython3",
   "version": "3.8.19"
  }
 },
 "nbformat": 4,
 "nbformat_minor": 5
}
