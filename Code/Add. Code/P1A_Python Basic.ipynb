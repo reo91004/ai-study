{
 "cells": [
  {
   "cell_type": "markdown",
   "metadata": {},
   "source": [
    "# Python Basic\n",
    "- 본 실습에서는 \n",
    "    - Jupyter Notebook 을 이용하는 방법과 \n",
    "    - Markdown 설정 방법,\n",
    "    - 파이썬을 활용한 기본적인 연산과 자료형에 대해 알아보고자 합니다. \n",
    "\n",
    "## 1. Language Basics"
   ]
  },
  {
   "cell_type": "markdown",
   "metadata": {},
   "source": [
    "#a bove\n",
    "\n",
    "#m : 마크다운으로 변환"
   ]
  },
  {
   "cell_type": "markdown",
   "metadata": {},
   "source": [
    "type: int, float, str, bool, ..."
   ]
  },
  {
   "cell_type": "code",
   "execution_count": 1,
   "metadata": {},
   "outputs": [],
   "source": [
    "# 변수를 정의\n",
    "x=10\n",
    "y=3"
   ]
  },
  {
   "cell_type": "code",
   "execution_count": null,
   "metadata": {},
   "outputs": [],
   "source": [
    "#b elow"
   ]
  },
  {
   "cell_type": "markdown",
   "metadata": {},
   "source": [
    "### (1) Operators\n",
    "- 간단한 사칙연산과 그 결과를 확인해봅시다.\n",
    "\n",
    "#### 사칙연산자\n",
    "- = : 대입\n",
    "- \\+ : 더하기\n",
    "- \\- : 빼기\n",
    "- \\* : 곱하기\n",
    "- / : 나누기\n",
    "- // : 나누기 (몫)\n",
    "- % : 나눈 후 나머지 (mod)\n",
    "- ** : 제곱\n",
    "\n",
    "#### 관계연산자\n",
    "- == : equal to\n",
    "- != : not equal to\n",
    "- \\> : is bigger than \n",
    "- \\< : is smaller than \n",
    "- \\>= : is bigger than or equal to\n",
    "- \\<= : is smaller than or equal to\n",
    "\n",
    "#### 이항연산자 (Boolean Operators)\n",
    "- not\n",
    "- and\n",
    "- or"
   ]
  },
  {
   "cell_type": "code",
   "execution_count": 8,
   "metadata": {},
   "outputs": [
    {
     "data": {
      "text/plain": [
       "13"
      ]
     },
     "execution_count": 8,
     "metadata": {},
     "output_type": "execute_result"
    }
   ],
   "source": [
    "x+y"
   ]
  },
  {
   "cell_type": "code",
   "execution_count": 5,
   "metadata": {},
   "outputs": [
    {
     "data": {
      "text/plain": [
       "1000"
      ]
     },
     "execution_count": 5,
     "metadata": {},
     "output_type": "execute_result"
    }
   ],
   "source": [
    "x**y"
   ]
  },
  {
   "cell_type": "code",
   "execution_count": 6,
   "metadata": {},
   "outputs": [
    {
     "data": {
      "text/plain": [
       "3.3333333333333335"
      ]
     },
     "execution_count": 6,
     "metadata": {},
     "output_type": "execute_result"
    }
   ],
   "source": [
    "x/y"
   ]
  },
  {
   "cell_type": "code",
   "execution_count": 7,
   "metadata": {},
   "outputs": [
    {
     "data": {
      "text/plain": [
       "3.3333333333333335"
      ]
     },
     "execution_count": 7,
     "metadata": {},
     "output_type": "execute_result"
    }
   ],
   "source": [
    "x/float(y)"
   ]
  },
  {
   "cell_type": "markdown",
   "metadata": {},
   "source": [
    "- 정수를 문자로 취급할 경우를 확인해봅시다."
   ]
  },
  {
   "cell_type": "code",
   "execution_count": null,
   "metadata": {},
   "outputs": [],
   "source": [
    "str(x) + \"+\" + str(y)"
   ]
  },
  {
   "cell_type": "markdown",
   "metadata": {},
   "source": [
    "### (2) None\n",
    "- 값이 존재하지 않는 변수에 None 을 부여하고 함수 정의를 해봅시다."
   ]
  },
  {
   "cell_type": "code",
   "execution_count": null,
   "metadata": {},
   "outputs": [],
   "source": [
    "# 변수의 값이 None 을 가질 수 있다.\n",
    "x = None"
   ]
  },
  {
   "cell_type": "code",
   "execution_count": null,
   "metadata": {},
   "outputs": [],
   "source": [
    "# 리스트는 None 을 원소로 가질 수 있다.\n",
    "array = [1,2, None]"
   ]
  },
  {
   "cell_type": "code",
   "execution_count": null,
   "metadata": {},
   "outputs": [],
   "source": [
    "# 함수는 None을 리턴(Return) 할 수 있다.\n",
    "def func():\n",
    "    return None"
   ]
  },
  {
   "cell_type": "markdown",
   "metadata": {},
   "source": [
    "- Boolean을 이용한 논리연산을 통해 객체가 None에 해당하는 지 확인해봅시다. "
   ]
  },
  {
   "cell_type": "code",
   "execution_count": null,
   "metadata": {},
   "outputs": [],
   "source": [
    "if [] != [None]:\n",
    "    print(\"Not Equal\")"
   ]
  },
  {
   "cell_type": "markdown",
   "metadata": {},
   "source": [
    "### (3) Indents\n",
    "- 함수를 정의하거나 루프(loop)가 발생할 때 하위 항목에 대해서는 indentation이 필수이며, 다음과 같은 형태를 띄고 있습니다."
   ]
  },
  {
   "cell_type": "code",
   "execution_count": null,
   "metadata": {},
   "outputs": [],
   "source": [
    "def sign(num) : \n",
    "    # 첫번째 레벨 indentation : 함수 body\n",
    "    if num == 0 : \n",
    "        # 두번째 레벨 indentation : if 구문 body\n",
    "        print(\"Zero\")\n",
    "    elif num > 0 : \n",
    "        # 두번째 레벨 indentation : elif 구문 body\n",
    "        print(\"Positive\")\n",
    "    else: \n",
    "        # 두번째 레벨 indentation : else 구문 body\n",
    "        print(\"Negative\")"
   ]
  },
  {
   "cell_type": "markdown",
   "metadata": {},
   "source": [
    "### (4) List\n",
    "- 리스트를 정의하고 각 요소의 위치와 타입을 확인하고, 원소를 추가해보도록 하겠습니다."
   ]
  },
  {
   "cell_type": "code",
   "execution_count": null,
   "metadata": {},
   "outputs": [],
   "source": [
    "# 리스트를 정의하여 names라는 변수로 저장한다.\n",
    "names = ['Zach', 'Jay']"
   ]
  },
  {
   "cell_type": "code",
   "execution_count": null,
   "metadata": {},
   "outputs": [],
   "source": [
    "# 첫 번째 원소가 Zach인지 확인한다.\n",
    "names[0] == 'Zach'"
   ]
  },
  {
   "cell_type": "code",
   "execution_count": null,
   "metadata": {},
   "outputs": [],
   "source": [
    "# Richard 원소를 추가한다.\n",
    "names.append('Richard')"
   ]
  },
  {
   "cell_type": "code",
   "execution_count": null,
   "metadata": {},
   "outputs": [],
   "source": [
    "# 리스트의 길이와 현재 리스트를 확인해본다.\n",
    "print(len(names) == 3)\n",
    "print(names)"
   ]
  },
  {
   "cell_type": "code",
   "execution_count": null,
   "metadata": {},
   "outputs": [],
   "source": [
    "# 또 다른 리스트의 원소들을 기존 리스트에 추가한다. \n",
    "names += ['Abi','Kevin']\n",
    "print(names)"
   ]
  },
  {
   "cell_type": "markdown",
   "metadata": {},
   "source": [
    "- 빈 리스트를 생성하는 법을 알아봅시다."
   ]
  },
  {
   "cell_type": "code",
   "execution_count": null,
   "metadata": {},
   "outputs": [],
   "source": [
    "names = []\n",
    "print(names)"
   ]
  },
  {
   "cell_type": "code",
   "execution_count": null,
   "metadata": {},
   "outputs": [],
   "source": [
    "names = list()\n",
    "print(names)"
   ]
  },
  {
   "cell_type": "markdown",
   "metadata": {},
   "source": [
    "- 리스트는 여러가지 타입의 원소를 포함할 수 있습니다. "
   ]
  },
  {
   "cell_type": "code",
   "execution_count": null,
   "metadata": {},
   "outputs": [],
   "source": [
    "stuff = [1, ['hi','bye'], -0.12, None]"
   ]
  },
  {
   "cell_type": "code",
   "execution_count": null,
   "metadata": {},
   "outputs": [],
   "source": [
    "stuff"
   ]
  },
  {
   "cell_type": "markdown",
   "metadata": {},
   "source": [
    "- 원소의 인덱스를 이용하여 리스트 일부 원소를 확인해봅시다. "
   ]
  },
  {
   "cell_type": "code",
   "execution_count": null,
   "metadata": {},
   "outputs": [],
   "source": [
    "# 리스트를 numbers라는 변수에 저장한다.\n",
    "numbers = [0,1,2,3,4,5,6]"
   ]
  },
  {
   "cell_type": "code",
   "execution_count": null,
   "metadata": {},
   "outputs": [],
   "source": [
    "# 0~2 번째 원소를 확인한다.\n",
    "print(numbers[0:3])\n",
    "print(numbers[:3])\n",
    "print([0,1,2])"
   ]
  },
  {
   "cell_type": "code",
   "execution_count": null,
   "metadata": {},
   "outputs": [],
   "source": [
    "# 5번째 이후의 원소를 확인한다.\n",
    "print(numbers[5:])\n",
    "print(numbers[5:7])\n",
    "print([5,6])"
   ]
  },
  {
   "cell_type": "code",
   "execution_count": null,
   "metadata": {},
   "outputs": [],
   "source": [
    "# 전체 원소를 확인한다.\n",
    "print(numbers[:])\n",
    "print(numbers)\n",
    "print([0,1,2,3,4,5,6])"
   ]
  },
  {
   "cell_type": "markdown",
   "metadata": {},
   "source": [
    "- 리스트 슬라이싱을 음수로 적용해봅시다."
   ]
  },
  {
   "cell_type": "code",
   "execution_count": null,
   "metadata": {},
   "outputs": [],
   "source": [
    "numbers[-1]"
   ]
  },
  {
   "cell_type": "markdown",
   "metadata": {},
   "source": [
    "마지막 index : -1"
   ]
  },
  {
   "cell_type": "code",
   "execution_count": null,
   "metadata": {},
   "outputs": [],
   "source": [
    "numbers[-3:]"
   ]
  },
  {
   "cell_type": "code",
   "execution_count": null,
   "metadata": {},
   "outputs": [],
   "source": [
    "numbers[3:-2]"
   ]
  },
  {
   "cell_type": "markdown",
   "metadata": {},
   "source": [
    "### (5) Tuples\n",
    "- 튜플을 정의하고 활용해봅시다."
   ]
  },
  {
   "cell_type": "code",
   "execution_count": null,
   "metadata": {},
   "outputs": [],
   "source": [
    "# 튜플을 names라는 변수에 저장한다.\n",
    "names = ('Zach','Jay')"
   ]
  },
  {
   "cell_type": "code",
   "execution_count": null,
   "metadata": {},
   "outputs": [],
   "source": [
    "# 0번째 원소를 확인한다.\n",
    "names[0]"
   ]
  },
  {
   "cell_type": "code",
   "execution_count": null,
   "metadata": {},
   "outputs": [],
   "source": [
    "# 튜플의 길이와 현재 튜플을 확인해본다.\n",
    "print(len(names) == 2)\n",
    "print(names)"
   ]
  },
  {
   "cell_type": "code",
   "execution_count": null,
   "metadata": {},
   "outputs": [],
   "source": [
    "# 튜플의 특정 인덱스에 원소를 assign 하는 것이 불가하다.\n",
    "names[0] = 'Richard'"
   ]
  },
  {
   "cell_type": "markdown",
   "metadata": {},
   "source": [
    "- 빈 튜플을 생성하는 법을 알아봅시다."
   ]
  },
  {
   "cell_type": "code",
   "execution_count": null,
   "metadata": {},
   "outputs": [],
   "source": [
    "empty = tuple()\n",
    "print(empty)"
   ]
  },
  {
   "cell_type": "code",
   "execution_count": null,
   "metadata": {},
   "outputs": [],
   "source": [
    "single = (10,)\n",
    "print(single)"
   ]
  },
  {
   "cell_type": "markdown",
   "metadata": {},
   "source": [
    "### (6) Dictionary\n",
    "- 딕셔너리를 정의하고 원소를 추가 및 삭제해봅시다. "
   ]
  },
  {
   "cell_type": "markdown",
   "metadata": {},
   "source": [
    "- 빈 딕셔너리는 다음 두 가지 방법으로 정의할 수 있습니다."
   ]
  },
  {
   "cell_type": "code",
   "execution_count": 9,
   "metadata": {},
   "outputs": [],
   "source": [
    "# 딕셔너리를 phonebook 변수에 저장한다.\n",
    "phonebook = {}"
   ]
  },
  {
   "cell_type": "code",
   "execution_count": 10,
   "metadata": {},
   "outputs": [],
   "source": [
    "# 딕셔너리를 phonebook 변수에 저장한다.\n",
    "phonebook = dict()"
   ]
  },
  {
   "cell_type": "markdown",
   "metadata": {},
   "source": [
    "- 다음으로, 빈 딕셔너리에 두 가지 방법을 이용하여 원소를 추가해봅시다."
   ]
  },
  {
   "cell_type": "code",
   "execution_count": 11,
   "metadata": {},
   "outputs": [],
   "source": [
    "phonebook = {'Zach':'12-37'}\n",
    "phonebook['Jay'] = '34-23'"
   ]
  },
  {
   "cell_type": "code",
   "execution_count": 12,
   "metadata": {},
   "outputs": [
    {
     "name": "stdout",
     "output_type": "stream",
     "text": [
      "True\n",
      "False\n",
      "34-23\n"
     ]
    }
   ],
   "source": [
    "# 원소가 딕셔너리에 존재하는 지 확인해본다.\n",
    "print('Zach' in phonebook)\n",
    "print('Kevin' in phonebook) \n",
    "print(phonebook['Jay'])"
   ]
  },
  {
   "cell_type": "markdown",
   "metadata": {},
   "source": [
    "- 원소를 삭제해봅시다."
   ]
  },
  {
   "cell_type": "code",
   "execution_count": 13,
   "metadata": {},
   "outputs": [
    {
     "name": "stdout",
     "output_type": "stream",
     "text": [
      "{'Jay': '34-23'}\n"
     ]
    }
   ],
   "source": [
    "del phonebook['Zach']\n",
    "print(phonebook)"
   ]
  },
  {
   "cell_type": "markdown",
   "metadata": {},
   "source": [
    "### (7) Loops\n",
    "- 루프(loops)를 사용하여 반복문을 작성해봅시다.\n",
    "\n",
    "#### for-loop\n",
    "```python\n",
    "for 범위지정:\n",
    "    반복문내용\n",
    "```\n",
    "- for i <- 1 to 10\n",
    "    - for i in [1,2,3,4,5,6,7,8,9,10]:\n",
    "- python은 0 부터 사용하도록 한다\n",
    "    - for i in [0,1,2,3,4,5,6,7,8,9]\n",
    "- range()를 사용\n",
    "    - range(10) = [0,1,2,3,4,5,6,7,8,9]"
   ]
  },
  {
   "cell_type": "code",
   "execution_count": null,
   "metadata": {},
   "outputs": [],
   "source": [
    "for i in range(10):\n",
    "    print(i)"
   ]
  },
  {
   "cell_type": "markdown",
   "metadata": {},
   "source": [
    "- 리스트에 반복문을 적용해봅시다."
   ]
  },
  {
   "cell_type": "code",
   "execution_count": null,
   "metadata": {},
   "outputs": [],
   "source": [
    "# 리스트를 names라는 변수에 저장한다.\n",
    "names = ['Zach','Jay','Richard']"
   ]
  },
  {
   "cell_type": "code",
   "execution_count": null,
   "metadata": {},
   "outputs": [],
   "source": [
    "# 리스트 내 모든 원소 앞에 hi 를 붙여 출력한다.\n",
    "\n",
    "for name in names:\n",
    "    print('Hi'+name+'!')"
   ]
  },
  {
   "cell_type": "code",
   "execution_count": null,
   "metadata": {},
   "outputs": [],
   "source": [
    "# 인덱스와 값을 함께 출력한다.\n",
    "for i in range(len(names)):\n",
    "    print(i, names[i])"
   ]
  },
  {
   "cell_type": "code",
   "execution_count": null,
   "metadata": {},
   "outputs": [],
   "source": [
    "# enumerate 함수를 이용하여 인덱스와 값을 함께 출력할 수 있다.\n",
    "for i, name in enumerate(names):\n",
    "    print(i, name)"
   ]
  },
  {
   "cell_type": "markdown",
   "metadata": {},
   "source": [
    "- 딕셔너리에 반복문을 적용해봅시다."
   ]
  },
  {
   "cell_type": "code",
   "execution_count": null,
   "metadata": {},
   "outputs": [],
   "source": [
    "# 딕셔너리를 phonebook 라는 변수에 저장한다.\n",
    "phonebook = {'Zach':'12-37', 'Jay':'34-23'}"
   ]
  },
  {
   "cell_type": "code",
   "execution_count": null,
   "metadata": {},
   "outputs": [],
   "source": [
    "# 딕셔너리의 key를 모두 출력한다.\n",
    "for name in phonebook:\n",
    "    print(name)"
   ]
  },
  {
   "cell_type": "code",
   "execution_count": null,
   "metadata": {},
   "outputs": [],
   "source": [
    "# 딕셔너리의 value를 모두 출력한다.\n",
    "for number in phonebook.values():\n",
    "    print(number)"
   ]
  },
  {
   "cell_type": "code",
   "execution_count": null,
   "metadata": {},
   "outputs": [],
   "source": [
    "# 딕셔너리의 모든 item을 출력한다.\n",
    "for name, number in\tphonebook.items():\n",
    "    print(name, number)"
   ]
  },
  {
   "cell_type": "markdown",
   "metadata": {},
   "source": [
    "#### while-loop\n",
    "```python\n",
    "while 조건 :\n",
    "    반복문내용\n",
    "```\n",
    "- for 와  while 의 loop 문에서는 break 과 continue 의 키워드를 사용할 수 있습니다."
   ]
  },
  {
   "cell_type": "code",
   "execution_count": null,
   "metadata": {},
   "outputs": [],
   "source": [
    "i = 0\n",
    "while True :\n",
    "    print(i)\n",
    "    i = i + 1\n",
    "    if i >= 5 :\n",
    "        break"
   ]
  },
  {
   "cell_type": "markdown",
   "metadata": {},
   "source": [
    "### (8) Functions and Classes\n",
    "\n",
    "#### 함수 \n",
    "- 함수 정의(function definition) : \n",
    "```python\n",
    "def function_name(argument1, argument2, ...):\n",
    "    line1\n",
    "    line2\n",
    "    ...\n",
    "    return result\n",
    "```\n",
    "    - 인자(argument)/매개변수(parameter) : 사용자 혹은 다른 코드로부터 받아 함수 안에서 사용하고 싶은 변수\n",
    "    - 함수의 내용을 작성할 때 들여쓰기를 하도록 한다.\n",
    "    - 함수의 output이 있을 경우, return 키워드를 이용하여 내뱉도록 한다.\n",
    "    - 함수에서 따로 output 을 낼 필요가 없는 경우, return 은 생략 가능하다.\n",
    "    \n",
    "   \n"
   ]
  },
  {
   "cell_type": "code",
   "execution_count": null,
   "metadata": {},
   "outputs": [],
   "source": [
    "def my_function(arg1,arg2):\n",
    "    # I will add two arguments\n",
    "    result = arg1 + arg2\n",
    "    return result"
   ]
  },
  {
   "cell_type": "markdown",
   "metadata": {},
   "source": [
    "#### 디폴트 인수(default value)\n",
    "- 함수 매개변수에 기본값을 부여할 수 있다.\n",
    "- 디폴드 인수가 있을 경우, 함수를 사용할 때, 인수가 생략되면 해당 값을 사용한다.\n",
    "- Remark:\n",
    "    - 디폴트 인수는 함수의 인자들 중 마지막 인자들부터 설정해 줄 수 있다."
   ]
  },
  {
   "cell_type": "code",
   "execution_count": null,
   "metadata": {},
   "outputs": [],
   "source": [
    "def add(n1,n2=0):\n",
    "    return n1+n2"
   ]
  },
  {
   "cell_type": "markdown",
   "metadata": {},
   "source": [
    "#### Class \n",
    "- class(클래스)와 instance(인스턴스)\n",
    "- class의 정의 및 구성 : \n",
    "```python\n",
    "class Class_name:\n",
    "    \n",
    "    var1 = ...                   # class variable shared by all instances\n",
    "    var2 = ... \n",
    "    \n",
    "    def __init__(self, arg1, arg2, ...):\n",
    "        self.member1 = arg1      # instance variable unique to each instance\n",
    "        self.member2 = arg2\n",
    "        ...\n",
    "    \n",
    "    def function_1(self, a, b ...):   # class methods\n",
    "        line1_1\n",
    "        line1_2\n",
    "        ...\n",
    "        \n",
    "    def function_2(self, a, b...):\n",
    "        line2_1\n",
    "        line2_2\n",
    "        self.function_1(a, b)\n",
    "        ...        \n",
    "```\n",
    "- class는 다음의 두가지 종류의 attribute(속성)를 갖는다 : data attribute, methods\n",
    "    - data attribute (member, 멤버 변수) : 각 인스턴스의 특징이나 인스턴스에 속한 데이터들을 나타내기 위한 값\n",
    "    - methods (member function, 멤버 함수, 메소드) : 해당 클래스와 관련된 동작을 수행하는 함수\n",
    "- \\_\\_init__ (생성자) : 객체가 '생성'될 때 자동으로 호출되는 특별한 멤버 함수\n",
    "    - 각각의 인스턴스와 관련된 멤버 변수를 설정할 수 있다.\n",
    "- self \n",
    "    - class 내부에서, 해당 class 안에 있는 다른 속성들 (멤버 변수/멤버 함수 등)을 호출할 때 self를 사용한다.\n",
    "    - class의 멤버 함수를 정의할 때, 해당 함수 내에서 해당 클래스의 속성들을 사용할 수 있도록 self를 첫번째 인자로 넣어준다.\n"
   ]
  },
  {
   "cell_type": "markdown",
   "metadata": {},
   "source": [
    "- 클래스를 정의하고 함수를 추가해봅시다."
   ]
  },
  {
   "cell_type": "code",
   "execution_count": null,
   "metadata": {},
   "outputs": [],
   "source": [
    "class Animal(object):\n",
    "    def __init__(self, species, age):\n",
    "        self.species = species \n",
    "        self.age = age\n",
    "\n",
    "    def is_person(self): \n",
    "        return self.species\n",
    "\n",
    "    def age_one_year(self): \n",
    "        self.age += 1\n",
    "\n",
    "# Dog 클래스는 Animal 클래스를 계승한다.\n",
    "class Dog(Animal):\n",
    "    def age_one_year(self): \n",
    "        self.age += 7\n"
   ]
  },
  {
   "cell_type": "markdown",
   "metadata": {},
   "source": [
    "### (9) Import Packages\n",
    "- 파이썬에서는 여러가지 패키지를 설치하고, 사용할 수 있습니다.\n",
    "- 여러가지 패키지와 모듈을 불러오는 코드를 작성해봅시다."
   ]
  },
  {
   "cell_type": "code",
   "execution_count": 4,
   "metadata": {},
   "outputs": [],
   "source": [
    "# os 모듈과 time 모듈을 불러온다.\n",
    "import os, time\n",
    "\n",
    "# numpy 패키지를 np라는 이름으로 불러온다.\n",
    "import numpy as np\n",
    "\n",
    "# 모듈 내 특정 하위 모듈이나 함수, 또는 패키지를 불러온다.\n",
    "# 패키지를 불러오는 것 이므로 앞에 모듈명 안붙이고 함수 실행이 가능하다\n",
    "from numpy import linalg as la, dot as matrix_multiply"
   ]
  },
  {
   "cell_type": "markdown",
   "metadata": {},
   "source": [
    "## 2. Introduction to NumPy\n",
    "- 본 노트북 코드에서는 numpy 모듈을 이용하여 배열을 정의하고 활용하는 방법에 대해 알아보고자 합니다.\n",
    "### (1) np.ndarray Operations"
   ]
  },
  {
   "cell_type": "markdown",
   "metadata": {},
   "source": [
    "-  다양한 형태의 배열을 x,y,z 에 저장하고 형태를 확인해봅시다."
   ]
  },
  {
   "cell_type": "code",
   "execution_count": 7,
   "metadata": {},
   "outputs": [
    {
     "name": "stdout",
     "output_type": "stream",
     "text": [
      "[1 2 3] [[3 4 5]] [[6 7]\n",
      " [8 9]]\n"
     ]
    }
   ],
   "source": [
    "# 배열을 정의하고 x,y,z 변수에 각각 저장한다.\n",
    "x = np.array([1,2,3]) # 1차원\n",
    "y = np.array([[3,4,5]])\n",
    "z = np.array([[6,7],[8,9]])\n",
    "print(x,y,z)"
   ]
  },
  {
   "cell_type": "code",
   "execution_count": 6,
   "metadata": {},
   "outputs": [
    {
     "name": "stdout",
     "output_type": "stream",
     "text": [
      "(3,)\n",
      "(1, 3)\n",
      "(2, 2)\n"
     ]
    }
   ],
   "source": [
    "# x,y,z 각각의 형태를 확인한다.\n",
    "print(x.shape) \n",
    "print(y.shape) \n",
    "print(z.shape)"
   ]
  },
  {
   "cell_type": "markdown",
   "metadata": {},
   "source": [
    "- 특정 조건의 원소를 추출해봅시다."
   ]
  },
  {
   "cell_type": "code",
   "execution_count": 8,
   "metadata": {},
   "outputs": [],
   "source": [
    "# 배열을 x라는 변수에 저장한다.\n",
    "x = np.array([[1,2],[3,4],[5,6]])"
   ]
  },
  {
   "cell_type": "code",
   "execution_count": 9,
   "metadata": {},
   "outputs": [
    {
     "name": "stdout",
     "output_type": "stream",
     "text": [
      "6\n"
     ]
    }
   ],
   "source": [
    "print(np.max(x));"
   ]
  },
  {
   "cell_type": "code",
   "execution_count": 11,
   "metadata": {},
   "outputs": [
    {
     "name": "stdout",
     "output_type": "stream",
     "text": [
      "[2 4 6]\n"
     ]
    }
   ],
   "source": [
    "# 각 행에서 가장 큰 값을 출력한다.\n",
    "print(np.max(x,axis=1))\n",
    "\n",
    "# 각 열에서 가장 큰 값을 출력한다.\n",
    "print(np.max(x, axis=0))"
   ]
  },
  {
   "cell_type": "code",
   "execution_count": 12,
   "metadata": {},
   "outputs": [
    {
     "name": "stdout",
     "output_type": "stream",
     "text": [
      "[[2]\n",
      " [4]\n",
      " [6]]\n"
     ]
    }
   ],
   "source": [
    "# keepdims 매개변수를 활용하여 축을 유지하도록 지정하면 결과 배열의 형상(shape)이 입력 배열과 동일한 형상을 유지할 수 있다.\n",
    "print(np.max(x, axis=1, keepdims=True))"
   ]
  },
  {
   "cell_type": "markdown",
   "metadata": {},
   "source": [
    "### (2) Indexing\n",
    "- 리스트의 슬라이싱과 유사한 개념으로, 배열의 일부를 추출하기 위해 사용할 수 있는 방법과 그 결과를 확인해봅시다."
   ]
  },
  {
   "cell_type": "code",
   "execution_count": 13,
   "metadata": {},
   "outputs": [],
   "source": [
    "import numpy as np"
   ]
  },
  {
   "cell_type": "code",
   "execution_count": 16,
   "metadata": {},
   "outputs": [
    {
     "data": {
      "text/plain": [
       "array([[0.01411491, 0.26172354, 0.18979596, 0.90032504],\n",
       "       [0.57706828, 0.04222389, 0.42050077, 0.22179183],\n",
       "       [0.85677658, 0.32888383, 0.086087  , 0.90585434]])"
      ]
     },
     "execution_count": 16,
     "metadata": {},
     "output_type": "execute_result"
    }
   ],
   "source": [
    "# 랜덤으로 생성한 (3,4) 형태의 배열을 생성하여 변수 x에 저장한다.\n",
    "x = np.random.random((3,4))\n",
    "# 배열 전체를 확인한다.\n",
    "x[:]"
   ]
  },
  {
   "cell_type": "code",
   "execution_count": 28,
   "metadata": {},
   "outputs": [
    {
     "data": {
      "text/plain": [
       "array([[0.01411491, 0.26172354, 0.18979596, 0.90032504],\n",
       "       [0.85677658, 0.32888383, 0.086087  , 0.90585434]])"
      ]
     },
     "execution_count": 28,
     "metadata": {},
     "output_type": "execute_result"
    }
   ],
   "source": [
    "# 0번째 행과 2번째 행을 선택한다.\n",
    "x[np.array([0,2]),:]\n",
    "\n",
    "# x[0:2, :]"
   ]
  },
  {
   "cell_type": "code",
   "execution_count": 19,
   "metadata": {},
   "outputs": [
    {
     "data": {
      "text/plain": [
       "array([0.04222389, 0.42050077])"
      ]
     },
     "execution_count": 19,
     "metadata": {},
     "output_type": "execute_result"
    }
   ],
   "source": [
    "# 1번째 행의 1~2번째 열을 추출한다.\n",
    "x[1,1:3]"
   ]
  },
  {
   "cell_type": "code",
   "execution_count": 29,
   "metadata": {},
   "outputs": [
    {
     "data": {
      "text/plain": [
       "array([0.90032504, 0.57706828, 0.85677658, 0.90585434])"
      ]
     },
     "execution_count": 29,
     "metadata": {},
     "output_type": "execute_result"
    }
   ],
   "source": [
    "# x 의 원소 중 0.5 초과인 값만 추출한다.\n",
    "x[x>0.5]"
   ]
  },
  {
   "cell_type": "code",
   "execution_count": 30,
   "metadata": {},
   "outputs": [
    {
     "data": {
      "text/plain": [
       "array([[[0.01411491],\n",
       "        [0.26172354],\n",
       "        [0.18979596],\n",
       "        [0.90032504]],\n",
       "\n",
       "       [[0.57706828],\n",
       "        [0.04222389],\n",
       "        [0.42050077],\n",
       "        [0.22179183]],\n",
       "\n",
       "       [[0.85677658],\n",
       "        [0.32888383],\n",
       "        [0.086087  ],\n",
       "        [0.90585434]]])"
      ]
     },
     "execution_count": 30,
     "metadata": {},
     "output_type": "execute_result"
    }
   ],
   "source": [
    "# (3,4,1) 형태의 3차원 벡터로 바꿔준다.\n",
    "x[:,:, np.newaxis]"
   ]
  },
  {
   "cell_type": "markdown",
   "metadata": {},
   "source": [
    "### (3) Broadcasting\n",
    "- 일반적으로 numpy에서는 서로 다른 모양의 배열끼리는 연산이 불가합니다. 하지만 어떤 특정 조건이 만족되면 서로 다른 모양의 배열끼리도 연산을 수행할 수 있고, 이를 브로드캐스팅(broadcasting)이라고 합니다.\n",
    "- 서로 다른 형태의 배열을 정의하고 연산을 수행해봅시다."
   ]
  },
  {
   "cell_type": "code",
   "execution_count": 31,
   "metadata": {},
   "outputs": [],
   "source": [
    "# 서로 다른 형태의 배열을 정의하여 x,y,z 각각 변수에 저장합니다.\n",
    "x = np.random.random((3,4))\n",
    "y = np.random.random((3,1))\n",
    "z = np.random.random((1,4))"
   ]
  },
  {
   "cell_type": "code",
   "execution_count": 32,
   "metadata": {},
   "outputs": [
    {
     "data": {
      "text/plain": [
       "array([[1.19299099, 0.80985538, 1.16096567, 1.08321093],\n",
       "       [1.24669294, 1.02958405, 0.68349205, 1.31940665],\n",
       "       [1.54125034, 1.77461024, 1.15092568, 1.70623646]])"
      ]
     },
     "execution_count": 32,
     "metadata": {},
     "output_type": "execute_result"
    }
   ],
   "source": [
    "# y 값을 x의 각 열에 더합니다.\n",
    "x+y"
   ]
  },
  {
   "cell_type": "code",
   "execution_count": null,
   "metadata": {},
   "outputs": [],
   "source": [
    "# z의 각 원소를 대응되는 x의 행에 곱합니다.\n",
    "x*z"
   ]
  },
  {
   "cell_type": "markdown",
   "metadata": {},
   "source": [
    "- 비슷한 예제로 한 번 더 학습해봅시다."
   ]
  },
  {
   "cell_type": "code",
   "execution_count": null,
   "metadata": {},
   "outputs": [],
   "source": [
    "# 서로 다른 형태의 배열을 정의하여 a,b,c 각각 변수에 저장합니다.\n",
    "a = np.random.random((3,4))\n",
    "b = np.random.random((3,1))\n",
    "c = np.random.random((3,))\n",
    "print(a)\n",
    "print(b)\n",
    "print(c)"
   ]
  },
  {
   "cell_type": "code",
   "execution_count": null,
   "metadata": {},
   "outputs": [],
   "source": [
    "# 각각의 연산이 어떤 결과를 보여주는지 확인한다.\n",
    "print(b + b.T)"
   ]
  },
  {
   "cell_type": "code",
   "execution_count": null,
   "metadata": {},
   "outputs": [],
   "source": [
    "print(a + b)"
   ]
  },
  {
   "cell_type": "code",
   "execution_count": null,
   "metadata": {},
   "outputs": [],
   "source": [
    "print(a + c)"
   ]
  },
  {
   "cell_type": "code",
   "execution_count": null,
   "metadata": {},
   "outputs": [],
   "source": [
    "print(b + c)"
   ]
  },
  {
   "cell_type": "markdown",
   "metadata": {},
   "source": [
    "## 3. Practical Python Tips\n",
    "- 본 노트북에서는 복잡한 코드를 동일한 기능을 하면서 가독성을 높이고 간결한 코드로 바꿔보고자 합시다."
   ]
  },
  {
   "cell_type": "code",
   "execution_count": null,
   "metadata": {},
   "outputs": [],
   "source": [
    "# 기존 코드\n",
    "squares = []\n",
    "for i in range(10):\n",
    "    squares.append(i**2)\n",
    "\n",
    "print(squares)"
   ]
  },
  {
   "cell_type": "code",
   "execution_count": null,
   "metadata": {},
   "outputs": [],
   "source": [
    "# 간결화된 코드\n",
    "squares = [i**2 for i in range(10)]\n",
    "print(squares)"
   ]
  },
  {
   "cell_type": "markdown",
   "metadata": {},
   "source": [
    "- 조건문을 포함한 형태로 간결화할 수 있습니다."
   ]
  },
  {
   "cell_type": "code",
   "execution_count": null,
   "metadata": {},
   "outputs": [],
   "source": [
    "# i가 홀수일 경우에만 odds에 i**2 값을 추가한다.\n",
    "odds = [i**2 for i in range(10) if i%2 == 1]\n",
    "print(odds)"
   ]
  },
  {
   "cell_type": "markdown",
   "metadata": {},
   "source": [
    "- 한 번에 여러 개의 값을 여러 개의 변수에 저장할 수 있습니다. "
   ]
  },
  {
   "cell_type": "code",
   "execution_count": null,
   "metadata": {},
   "outputs": [],
   "source": [
    "age, name, pets = 20, 'Joy', ['cat']\n",
    "x, y, z = ('Tensorflow', 'PyTorch', 'Chainer')"
   ]
  },
  {
   "cell_type": "markdown",
   "metadata": {},
   "source": [
    "- 함수에서 여러 개의 값을 한 번에 리턴(return)할 수 있습니다."
   ]
  },
  {
   "cell_type": "code",
   "execution_count": null,
   "metadata": {},
   "outputs": [],
   "source": [
    "def some_func(): \n",
    "    return 10, 1\n",
    "ten, one = some_func()"
   ]
  },
  {
   "cell_type": "markdown",
   "metadata": {},
   "source": [
    "- 구분 기호를 이용하여 리스트 원소들을 string으로 출력할 수 있습니다."
   ]
  },
  {
   "cell_type": "code",
   "execution_count": null,
   "metadata": {},
   "outputs": [],
   "source": [
    "\",\".join(['1', '2', '3']) == '1,2,3'"
   ]
  },
  {
   "cell_type": "markdown",
   "metadata": {},
   "source": [
    "- 하나의 string에는 작은 따옴표와 큰 따옴표가 혼용되어 있을 수 있습니다."
   ]
  },
  {
   "cell_type": "code",
   "execution_count": null,
   "metadata": {},
   "outputs": [],
   "source": [
    "message = 'I like \"single\" quotes.'\n",
    "reply = \"I prefer 'double' quotes\""
   ]
  },
  {
   "cell_type": "code",
   "execution_count": null,
   "metadata": {},
   "outputs": [],
   "source": [
    "print(message)\n",
    "print(reply)"
   ]
  }
 ],
 "metadata": {
  "kernelspec": {
   "display_name": "Python 3 (ipykernel)",
   "language": "python",
   "name": "python3"
  },
  "language_info": {
   "codemirror_mode": {
    "name": "ipython",
    "version": 3
   },
   "file_extension": ".py",
   "mimetype": "text/x-python",
   "name": "python",
   "nbconvert_exporter": "python",
   "pygments_lexer": "ipython3",
   "version": "3.8.19"
  }
 },
 "nbformat": 4,
 "nbformat_minor": 2
}
