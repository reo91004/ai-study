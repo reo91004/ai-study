{
 "cells": [
  {
   "cell_type": "markdown",
   "id": "3b74e027-c2ec-4dff-bebb-2c0a0e3f3b78",
   "metadata": {},
   "source": [
    "# Naive Bayes \n",
    "\n",
    "- 이 노트북에서는 나이브 베이즈를 사용하여 요일, 출발 시간, 출발지, 목적지, 항공사와 같은 다양한 요인을 바탕으로 항공편이 지연될지 여부를 예측하는 분류 모델을 구축합니다.\n",
    "\n",
    "- 분류 모델의 훈련, 평가 및 예측을 위해 scikit-learn 패키지를 사용합니다. 또한 데이터 조작을 위해 pandas 라이브러리를 활용합니다. 나이브 베이즈 모델에는 scikit-learn의 MultinomialNB 함수를 사용합니다.\n",
    "\n",
    "## 1. Naive Bayes on \"Flight Delays\" dataset\n",
    "\n",
    "### (1) Prepare the data"
   ]
  },
  {
   "cell_type": "code",
   "execution_count": null,
   "id": "b7d1ac05-e7ed-44d6-913f-b08204d0fa77",
   "metadata": {},
   "outputs": [],
   "source": [
    "import pandas as pd\n",
    "from sklearn.model_selection import train_test_split\n",
    "from sklearn.naive_bayes import MultinomialNB\n",
    "import matplotlib.pylab as plt"
   ]
  },
  {
   "cell_type": "code",
   "execution_count": null,
   "id": "5325a050-c7ce-40da-b1db-e814403db6a4",
   "metadata": {},
   "outputs": [],
   "source": [
    "url = \"https://raw.github.com/niharikabalachandra/Logistic-Regression/master/FlightDelays.csv\"\n",
    "delays_df = pd.read_csv(url)"
   ]
  },
  {
   "cell_type": "code",
   "execution_count": null,
   "id": "433e97bd-a385-47ad-a020-546c92a2e6ee",
   "metadata": {},
   "outputs": [],
   "source": [
    "delays_df.head()"
   ]
  },
  {
   "cell_type": "markdown",
   "id": "4af47677-3a3b-462a-aa7f-0c02a1929371",
   "metadata": {},
   "source": [
    "### (2) Preprocessing\n",
    "\n",
    "- 특정 열을 범주형 변수로 변환합니다.\n",
    "- 출발 시간을 반올림하여 시간별 구간을 만듭니다."
   ]
  },
  {
   "cell_type": "code",
   "execution_count": null,
   "id": "efcb3334-5f20-48b8-986b-bed4a9dc0076",
   "metadata": {},
   "outputs": [],
   "source": [
    "# convert to categorical\n",
    "delays_df.dayweek = delays_df.dayweek.astype('category')\n",
    "delays_df['delay'] = delays_df['delay'].astype('category')\n",
    "\n",
    "# create hourly bins departure time \n",
    "delays_df.schedtime = [round(t / 100) for t in delays_df.schedtime]\n",
    "delays_df.schedtime = delays_df.schedtime.astype('category')\n",
    "\n",
    "predictors = ['dayweek', 'schedtime', 'origin', 'dest', 'carrier']\n",
    "outcome = 'delay'\n",
    "\n",
    "X = pd.get_dummies(delays_df[predictors])\n",
    "y = delays_df['delay']\n",
    "\n",
    "classes = list(y.cat.categories)"
   ]
  },
  {
   "cell_type": "code",
   "execution_count": null,
   "id": "e7944291-2f0f-439e-8b27-d6ac2ddef1e7",
   "metadata": {},
   "outputs": [],
   "source": [
    "X.head(2)"
   ]
  },
  {
   "cell_type": "markdown",
   "id": "d261aedc-fc76-4eaa-b8b1-4ca8fa293138",
   "metadata": {},
   "source": [
    "### (3) Split the data into training and test sets"
   ]
  },
  {
   "cell_type": "code",
   "execution_count": null,
   "id": "8af37849-48eb-4da1-bcbd-5cbac7069868",
   "metadata": {},
   "outputs": [],
   "source": [
    "# split into training and test\n",
    "X_train, X_test, y_train, y_test = train_test_split(X, y, test_size=0.40, random_state=1)"
   ]
  },
  {
   "cell_type": "markdown",
   "id": "c3859363-0bc3-4d9d-95d5-f1852a30e073",
   "metadata": {},
   "source": [
    "### (4) Define and train a Naive Bayes model"
   ]
  },
  {
   "cell_type": "code",
   "execution_count": null,
   "id": "e5a5802f-ef58-4925-87b7-01f1f1dd3632",
   "metadata": {},
   "outputs": [],
   "source": [
    "# run naive Bayes\n",
    "clf = MultinomialNB(alpha=0.01)\n",
    "clf.fit(X_train, y_train)"
   ]
  },
  {
   "cell_type": "markdown",
   "id": "cda8aef4-5f35-4111-bb1a-a382a50ffdd3",
   "metadata": {},
   "source": [
    "### (5) Predict probabilities and class membership"
   ]
  },
  {
   "cell_type": "code",
   "execution_count": null,
   "id": "398b2eea-4af1-41b7-9cec-c5116b750422",
   "metadata": {},
   "outputs": [],
   "source": [
    "# predict probabilities\n",
    "predProb_train = clf.predict_proba(X_train)\n",
    "predProb_test = clf.predict_proba(X_test)\n",
    "\n",
    "# predict class membership\n",
    "y_test_pred = clf.predict(X_test)\n",
    "y_train_pred = clf.predict(X_train)"
   ]
  },
  {
   "cell_type": "code",
   "execution_count": null,
   "id": "74b11d23-3c88-4ab5-a64f-8f7a63dd0e95",
   "metadata": {},
   "outputs": [],
   "source": [
    "# Subset a specific set\n",
    "df = pd.concat([pd.DataFrame({'actual': y_test, 'predicted': y_test_pred}),\n",
    "                pd.DataFrame(predProb_test, index=y_test.index)], axis=1)\n",
    "mask = ((X_test.carrier_DL == 1) & (X_test.dayweek_7 == 1) & (X_test.schedtime_10 == 1) & \n",
    "        (X_test.dest_LGA == 1) & (X_test.origin_DCA == 1))\n",
    "\n",
    "print(df[mask])"
   ]
  },
  {
   "cell_type": "markdown",
   "id": "3f7a9650-ae87-4541-be10-9fe7b2cbd19a",
   "metadata": {},
   "source": [
    "### (6) Generate probability frequency tables"
   ]
  },
  {
   "cell_type": "code",
   "execution_count": null,
   "id": "339e27f8-9a34-4c21-a9bb-f0f5bd769505",
   "metadata": {},
   "outputs": [],
   "source": [
    "# split the original data frame into a train and test using the same random_state\n",
    "train_df, test_df = train_test_split(delays_df, test_size=0.4, random_state=1)\n",
    "\n",
    "pd.set_option('display.precision', 4)\n",
    "# probability of flight status\n",
    "print(train_df['delay'].value_counts() / len(train_df))\n",
    "print()\n",
    "\n",
    "for predictor in predictors:\n",
    "    # construct the frequency table\n",
    "    df = train_df[['delay', predictor]]\n",
    "    freqTable = df.pivot_table(index='delay', columns=predictor, aggfunc=len)\n",
    "\n",
    "    # divide each row by the sum of the row to get conditional probabilities\n",
    "    propTable = freqTable.apply(lambda x: x / sum(x), axis=1)\n",
    "    print(propTable)\n",
    "    print()\n",
    "pd.reset_option('display.precision')"
   ]
  },
  {
   "cell_type": "markdown",
   "id": "72555b58-c907-4bb5-93c5-2041e0dea9f7",
   "metadata": {},
   "source": [
    "### (7) Calculate the posterior probabilities for specific cases"
   ]
  },
  {
   "cell_type": "code",
   "execution_count": null,
   "id": "5b7c89d6-0092-43fd-aad2-da9b71a4ab50",
   "metadata": {},
   "outputs": [],
   "source": [
    "# P(delayed | Carrier = DL, Day_Week = 7, Dep_Time = 10, Dest = LGA, Origin = DCA)\n",
    "P_hat_delayed = 0.0958 * 0.1609 * 0.0307 * 0.4215 * 0.5211 * 0.1977\n",
    "# P(ontime | Carrier = DL, Day_Week = 7, Dep_Time = 10, Dest = LGA, Origin = DCA)\n",
    "P_hat_ontime = 0.2040 * 0.1048 * 0.0519 * 0.5779 * 0.6478 * 0.8023\n",
    "print('P_hat_delayed ~ ', P_hat_delayed)\n",
    "print('P_hat_ontime ~ ', P_hat_ontime)\n",
    "\n",
    "print('P(delayed|...) = ', P_hat_delayed / (P_hat_delayed + P_hat_ontime))\n",
    "print('P(ontime|...) = ', P_hat_ontime / (P_hat_delayed + P_hat_ontime))"
   ]
  },
  {
   "cell_type": "markdown",
   "id": "0f43dfb5-2d47-4080-8e40-4adf1d9cd1c0",
   "metadata": {},
   "source": [
    "### (8) Evaluate the model using confusion matrix and ROC curve"
   ]
  },
  {
   "cell_type": "code",
   "execution_count": null,
   "id": "4af50d3e-3157-4deb-a029-78110614c4ba",
   "metadata": {},
   "outputs": [],
   "source": [
    "print(clf.score(X_test, y_test))"
   ]
  },
  {
   "cell_type": "code",
   "execution_count": null,
   "id": "27360bda-4117-4c49-8e50-60c51fa3619e",
   "metadata": {},
   "outputs": [],
   "source": [
    "from sklearn.metrics import confusion_matrix, classification_report, ConfusionMatrixDisplay\n",
    "\n",
    "cm = confusion_matrix(y_test, y_test_pred)\n",
    "\n",
    "print(\"Confusion Matrix:\")\n",
    "print(cm)\n",
    "\n",
    "disp = ConfusionMatrixDisplay(confusion_matrix=cm, display_labels=clf.classes_)\n",
    "disp.plot()\n",
    "\n",
    "plt.show()"
   ]
  },
  {
   "cell_type": "code",
   "execution_count": null,
   "id": "97c736a9-ed0d-490b-abe5-22644ca84fc2",
   "metadata": {},
   "outputs": [],
   "source": [
    "from sklearn.metrics import roc_auc_score, roc_curve, auc\n",
    "from sklearn.preprocessing import LabelBinarizer\n",
    "\n",
    "lb = LabelBinarizer()  \n",
    "y_test_binary = lb.fit_transform(y_test)\n",
    "\n",
    "fpr, tpr, thresholds = roc_curve(y_test_binary, predProb_test[:,1])  \n",
    "roc_auc = auc(fpr, tpr)  \n",
    "\n",
    "plt.figure()\n",
    "plt.plot(fpr, tpr, color='darkorange', lw=2, label='ROC curve (area = %0.2f)' % roc_auc)\n",
    "plt.plot([0, 1], [0, 1], color='navy', lw=2, linestyle='--')  # 대각선 (랜덤 모델)\n",
    "plt.xlim([0.0, 1.0])\n",
    "plt.ylim([0.0, 1.05])\n",
    "plt.xlabel('False Positive Rate')\n",
    "plt.ylabel('True Positive Rate')\n",
    "plt.title('Receiver Operating Characteristic (ROC) Curve')\n",
    "plt.legend(loc=\"lower right\")\n",
    "plt.show()\n",
    "\n",
    "print(f'AUC: {roc_auc:.2f}')"
   ]
  },
  {
   "cell_type": "code",
   "execution_count": null,
   "id": "8f79f3ea-ed08-45b2-a253-297c23a9ce10",
   "metadata": {},
   "outputs": [],
   "source": []
  }
 ],
 "metadata": {
  "kernelspec": {
   "display_name": "Python 3 (ipykernel)",
   "language": "python",
   "name": "python3"
  },
  "language_info": {
   "codemirror_mode": {
    "name": "ipython",
    "version": 3
   },
   "file_extension": ".py",
   "mimetype": "text/x-python",
   "name": "python",
   "nbconvert_exporter": "python",
   "pygments_lexer": "ipython3",
   "version": "3.11.5"
  }
 },
 "nbformat": 4,
 "nbformat_minor": 5
}
